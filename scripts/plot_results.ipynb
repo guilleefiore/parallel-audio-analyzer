{
 "cells": [
  {
   "cell_type": "code",
   "execution_count": null,
   "id": "aca92ee2",
   "metadata": {},
   "outputs": [],
   "source": [
    "import numpy as np\n",
    "import matplotlib.pyplot as plt\n",
    "\n",
    "# Cargar CSV generado por el programa en C\n",
    "mag = np.loadtxt(\"../results/espectrograma.csv\", delimiter=\",\")\n",
    "\n",
    "print(f\"Forma del espectrograma: {mag.shape}\")\n",
    "print(f\"Todas las filas tienen {mag.shape[1]} columnas ✓\")\n",
    "\n",
    "# Convertir a decibelios para mejorar contraste visual\n",
    "mag_db = 20 * np.log10(mag + 1e-6)\n",
    "\n",
    "plt.figure(figsize=(10, 5))\n",
    "plt.imshow(mag_db.T, origin=\"lower\", aspect=\"auto\", cmap=\"magma\")\n",
    "plt.colorbar(label=\"Magnitud (dB)\")\n",
    "plt.xlabel(\"Ventanas (tiempo)\")\n",
    "plt.ylabel(\"Frecuencia (bins)\")\n",
    "plt.title(\"Espectrograma STFT\")\n",
    "plt.tight_layout()\n",
    "plt.show()"
   ]
  }
 ],
 "metadata": {
  "language_info": {
   "name": "python"
  }
 },
 "nbformat": 4,
 "nbformat_minor": 5
}
